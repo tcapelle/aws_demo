{
 "cells": [
  {
   "cell_type": "markdown",
   "id": "e6b211cf-e72c-48cf-8d8a-7e989fc1e0b9",
   "metadata": {},
   "source": [
    "# Training a Sentiment Analysis model from [Kaggle data](https://www.kaggle.com/yash612/stockmarket-sentiment-dataset?select=stock_data.csv)\n",
    "\n",
    "> Download the data and name it `stock_data.csv`"
   ]
  },
  {
   "cell_type": "code",
   "execution_count": 1,
   "id": "1b4ba976-4054-457f-8e71-01bd9a4aa017",
   "metadata": {},
   "outputs": [],
   "source": [
    "import os\n",
    "import wandb"
   ]
  },
  {
   "cell_type": "code",
   "execution_count": 2,
   "id": "654b32c6-6f43-42a8-bcef-b33093ab656c",
   "metadata": {},
   "outputs": [],
   "source": [
    "raw_csv_fname = \"stock_data.csv\""
   ]
  },
  {
   "cell_type": "code",
   "execution_count": 3,
   "id": "c886c587-1449-4e7e-a46d-859ec7355f79",
   "metadata": {},
   "outputs": [
    {
     "name": "stderr",
     "output_type": "stream",
     "text": [
      "Failed to detect the name of this notebook, you can set it manually with the WANDB_NOTEBOOK_NAME environment variable to enable code saving.\n",
      "\u001b[34m\u001b[1mwandb\u001b[0m: Currently logged in as: \u001b[33mcapecape\u001b[0m (use `wandb login --relogin` to force relogin)\n"
     ]
    },
    {
     "data": {
      "text/html": [
       "\n",
       "                    Syncing run <strong><a href=\"https://wandb.ai/capecape/aws_demo/runs/1cijuxb9\" target=\"_blank\">vocal-disco-1</a></strong> to <a href=\"https://wandb.ai/capecape/aws_demo\" target=\"_blank\">Weights & Biases</a> (<a href=\"https://docs.wandb.com/integrations/jupyter.html\" target=\"_blank\">docs</a>).<br/>\n",
       "\n",
       "                "
      ],
      "text/plain": [
       "<IPython.core.display.HTML object>"
      ]
     },
     "metadata": {},
     "output_type": "display_data"
    },
    {
     "data": {
      "text/html": [
       "<button onClick=\"this.nextSibling.style.display='block';this.style.display='none';\">Display W&B run</button><iframe src=\"https://wandb.ai/capecape/aws_demo/runs/1cijuxb9?jupyter=true\" style=\"border:none;width:100%;height:420px;display:none;\"></iframe>"
      ],
      "text/plain": [
       "<wandb.sdk.wandb_run.Run at 0x7f9a0e63c100>"
      ]
     },
     "execution_count": 3,
     "metadata": {},
     "output_type": "execute_result"
    }
   ],
   "source": [
    "wandb.login()\n",
    "wandb.init(project=\"aws_demo\", job_type=\"data_upload\")"
   ]
  },
  {
   "cell_type": "code",
   "execution_count": 4,
   "id": "5bdec9a3-7878-41eb-a2d5-05d0d8868aa2",
   "metadata": {},
   "outputs": [],
   "source": [
    "table = wandb.Table(columns=[\"Sequence\", \"Sentiment\"])"
   ]
  },
  {
   "cell_type": "code",
   "execution_count": 5,
   "id": "fde10956-2f40-47c7-9631-645e7120893e",
   "metadata": {},
   "outputs": [
    {
     "data": {
      "text/plain": [
       "<ManifestEntry digest: 1PmYBFHgKJWQRIXSiKAQ9A==>"
      ]
     },
     "execution_count": 5,
     "metadata": {},
     "output_type": "execute_result"
    }
   ],
   "source": [
    "ds_at = wandb.Artifact(\"raw_dataset\", type=\"dataset\")\n",
    "ds_at.add_file(raw_csv_fname)"
   ]
  },
  {
   "cell_type": "code",
   "execution_count": 6,
   "id": "6704f397-dcf6-4b56-a52e-599732f2b647",
   "metadata": {},
   "outputs": [
    {
     "data": {
      "text/html": [
       "<br/>Waiting for W&B process to finish, PID 19740... <strong style=\"color:green\">(success).</strong>"
      ],
      "text/plain": [
       "<IPython.core.display.HTML object>"
      ]
     },
     "metadata": {},
     "output_type": "display_data"
    },
    {
     "data": {
      "application/vnd.jupyter.widget-view+json": {
       "model_id": "",
       "version_major": 2,
       "version_minor": 0
      },
      "text/plain": [
       "VBox(children=(Label(value=' 0.46MB of 0.46MB uploaded (0.00MB deduped)\\r'), FloatProgress(value=1.0, max=1.0)…"
      ]
     },
     "metadata": {},
     "output_type": "display_data"
    },
    {
     "data": {
      "text/html": [
       "<style>\n",
       "    table.wandb td:nth-child(1) { padding: 0 10px; text-align: right }\n",
       "    .wandb-row { display: flex; flex-direction: row; flex-wrap: wrap; width: 100% }\n",
       "    .wandb-col { display: flex; flex-direction: column; flex-basis: 100%; flex: 1; padding: 10px; }\n",
       "    </style>\n",
       "<div class=\"wandb-row\"><div class=\"wandb-col\">\n",
       "</div><div class=\"wandb-col\">\n",
       "</div></div>\n",
       "Synced 5 W&B file(s), 0 media file(s), 1 artifact file(s) and 0 other file(s)\n",
       "<br/>Synced <strong style=\"color:#cdcd00\">vocal-disco-1</strong>: <a href=\"https://wandb.ai/capecape/aws_demo/runs/1cijuxb9\" target=\"_blank\">https://wandb.ai/capecape/aws_demo/runs/1cijuxb9</a><br/>\n",
       "Find logs at: <code>./wandb/run-20220131_140103-1cijuxb9/logs</code><br/>\n"
      ],
      "text/plain": [
       "<IPython.core.display.HTML object>"
      ]
     },
     "metadata": {},
     "output_type": "display_data"
    }
   ],
   "source": [
    "wandb.log_artifact(ds_at)\n",
    "wandb.finish()"
   ]
  },
  {
   "cell_type": "markdown",
   "id": "7a87ea14-b18b-4890-a649-0abc329c8b1b",
   "metadata": {},
   "source": [
    "## Process data\n",
    "- rename columns\n",
    "- Create split"
   ]
  },
  {
   "cell_type": "code",
   "execution_count": 7,
   "id": "9c6bc8d6-186e-49e3-8e64-8c48e737ca71",
   "metadata": {},
   "outputs": [
    {
     "data": {
      "text/html": [
       "\n",
       "                    Syncing run <strong><a href=\"https://wandb.ai/capecape/aws_demo/runs/okwqa65a\" target=\"_blank\">sleek-serenity-2</a></strong> to <a href=\"https://wandb.ai/capecape/aws_demo\" target=\"_blank\">Weights & Biases</a> (<a href=\"https://docs.wandb.com/integrations/jupyter.html\" target=\"_blank\">docs</a>).<br/>\n",
       "\n",
       "                "
      ],
      "text/plain": [
       "<IPython.core.display.HTML object>"
      ]
     },
     "metadata": {},
     "output_type": "display_data"
    },
    {
     "data": {
      "text/html": [
       "<button onClick=\"this.nextSibling.style.display='block';this.style.display='none';\">Display W&B run</button><iframe src=\"https://wandb.ai/capecape/aws_demo/runs/okwqa65a?jupyter=true\" style=\"border:none;width:100%;height:420px;display:none;\"></iframe>"
      ],
      "text/plain": [
       "<wandb.sdk.wandb_run.Run at 0x7f9a0c4db3d0>"
      ]
     },
     "execution_count": 7,
     "metadata": {},
     "output_type": "execute_result"
    }
   ],
   "source": [
    "wandb.init(project=\"aws_demo\", job_type=\"preprocess_data\")"
   ]
  },
  {
   "cell_type": "code",
   "execution_count": 8,
   "id": "deb1c832-8024-46d9-9d8f-97191f974ebb",
   "metadata": {},
   "outputs": [],
   "source": [
    "dataset_path = wandb.use_artifact(\"raw_dataset:latest\").download()"
   ]
  },
  {
   "cell_type": "code",
   "execution_count": 9,
   "id": "70363092-b140-49a9-9f70-da55e0c25d46",
   "metadata": {},
   "outputs": [],
   "source": [
    "raw_csv_fname = os.path.join(dataset_path, raw_csv_fname)"
   ]
  },
  {
   "cell_type": "code",
   "execution_count": 10,
   "id": "4b499d71-b848-40ed-a868-158361b9c76a",
   "metadata": {},
   "outputs": [],
   "source": [
    "import random\n",
    "import pandas as pd\n",
    "\n",
    "df = pd.read_csv(raw_csv_fname)\n",
    "\n",
    "labels = [\"negative\", \"positive\"]\n",
    "id2label = {-1: labels[0], 1: labels[1]}\n",
    "label2id = { labels[0]:-1, labels[1]:1 }\n",
    "\n",
    "df[\"labels\"] = df[\"Sentiment\"].map({-1:0, 1:1})\n",
    "\n",
    "df = df.drop(columns=[\"Sentiment\"])"
   ]
  },
  {
   "cell_type": "code",
   "execution_count": 11,
   "id": "cbeb4515-769b-404a-bc93-19578144ae64",
   "metadata": {},
   "outputs": [],
   "source": [
    "def get_train_test_idxs(df, pct=0.1, seed=2022):\n",
    "    \"get train and valid idxs\"\n",
    "    random.seed(seed)\n",
    "    range_of = lambda df: list(range(len(df)))\n",
    "    test_idxs = random.sample(range_of(df), int(pct*len(df)))\n",
    "    train_idxs = [i for i in range_of(df) if i not in test_idxs]\n",
    "    return train_idxs, test_idxs"
   ]
  },
  {
   "cell_type": "code",
   "execution_count": 12,
   "id": "c93e65d3-f4a8-40ac-acae-674500a8b8e4",
   "metadata": {},
   "outputs": [],
   "source": [
    "def save_datasets(df, pct=0.1):\n",
    "    \"Save splitted dataset\"\n",
    "    train_idxs, test_idxs = get_train_test_idxs(df, pct)\n",
    "    train_df, test_df = df.loc[train_idxs], df.loc[test_idxs]\n",
    "    print(\"Saving splitted dataset\")\n",
    "    train_df.to_csv(\"train.csv\", index=False)\n",
    "    test_df.to_csv(\"test.csv\", index=False)"
   ]
  },
  {
   "cell_type": "code",
   "execution_count": 13,
   "id": "c78aef14-75d9-41f0-8849-f35578abb9f1",
   "metadata": {},
   "outputs": [
    {
     "name": "stdout",
     "output_type": "stream",
     "text": [
      "Saving splitted dataset\n"
     ]
    }
   ],
   "source": [
    "save_datasets(df)"
   ]
  },
  {
   "cell_type": "code",
   "execution_count": 14,
   "id": "4f0928c9-58b1-4902-846e-73becb47aed6",
   "metadata": {},
   "outputs": [
    {
     "data": {
      "text/html": [
       "<br/>Waiting for W&B process to finish, PID 19782... <strong style=\"color:green\">(success).</strong>"
      ],
      "text/plain": [
       "<IPython.core.display.HTML object>"
      ]
     },
     "metadata": {},
     "output_type": "display_data"
    },
    {
     "data": {
      "application/vnd.jupyter.widget-view+json": {
       "model_id": "",
       "version_major": 2,
       "version_minor": 0
      },
      "text/plain": [
       "VBox(children=(Label(value=' 0.46MB of 0.46MB uploaded (0.00MB deduped)\\r'), FloatProgress(value=1.0, max=1.0)…"
      ]
     },
     "metadata": {},
     "output_type": "display_data"
    },
    {
     "data": {
      "text/html": [
       "<style>\n",
       "    table.wandb td:nth-child(1) { padding: 0 10px; text-align: right }\n",
       "    .wandb-row { display: flex; flex-direction: row; flex-wrap: wrap; width: 100% }\n",
       "    .wandb-col { display: flex; flex-direction: column; flex-basis: 100%; flex: 1; padding: 10px; }\n",
       "    </style>\n",
       "<div class=\"wandb-row\"><div class=\"wandb-col\">\n",
       "</div><div class=\"wandb-col\">\n",
       "</div></div>\n",
       "Synced 6 W&B file(s), 0 media file(s), 2 artifact file(s) and 0 other file(s)\n",
       "<br/>Synced <strong style=\"color:#cdcd00\">sleek-serenity-2</strong>: <a href=\"https://wandb.ai/capecape/aws_demo/runs/okwqa65a\" target=\"_blank\">https://wandb.ai/capecape/aws_demo/runs/okwqa65a</a><br/>\n",
       "Find logs at: <code>./wandb/run-20220131_140110-okwqa65a/logs</code><br/>\n"
      ],
      "text/plain": [
       "<IPython.core.display.HTML object>"
      ]
     },
     "metadata": {},
     "output_type": "display_data"
    }
   ],
   "source": [
    "split_at = wandb.Artifact(\"splitted_dataset\", type=\"dataset\")\n",
    "\n",
    "# we add the files\n",
    "split_at.add_file(\"train.csv\")\n",
    "split_at.add_file(\"test.csv\")\n",
    "\n",
    "# we log\n",
    "wandb.log_artifact(split_at)\n",
    "\n",
    "wandb.finish()"
   ]
  }
 ],
 "metadata": {
  "kernelspec": {
   "display_name": "Python 3 (ipykernel)",
   "language": "python",
   "name": "python3"
  },
  "language_info": {
   "codemirror_mode": {
    "name": "ipython",
    "version": 3
   },
   "file_extension": ".py",
   "mimetype": "text/x-python",
   "name": "python",
   "nbconvert_exporter": "python",
   "pygments_lexer": "ipython3",
   "version": "3.9.9"
  }
 },
 "nbformat": 4,
 "nbformat_minor": 5
}
